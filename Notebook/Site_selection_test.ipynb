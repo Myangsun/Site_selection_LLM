{
  "nbformat": 4,
  "nbformat_minor": 0,
  "metadata": {
    "colab": {
      "provenance": []
    },
    "kernelspec": {
      "name": "python3",
      "display_name": "Python 3"
    },
    "language_info": {
      "name": "python"
    }
  },
  "cells": [
    {
      "cell_type": "code",
      "execution_count": 12,
      "metadata": {
        "colab": {
          "base_uri": "https://localhost:8080/"
        },
        "id": "fYOHZnv5jPp6",
        "outputId": "1a79a594-62f3-482d-cec5-4561acfa4204"
      },
      "outputs": [
        {
          "output_type": "stream",
          "name": "stdout",
          "text": [
            "Found 93 commercial parcels within 500m of Harvard Square\n",
            "Parcel IDs: ['166-77', '168-36', '160-59', '160-14', '166-37', '165-55', '165-60', '165-34', '137-13', '162-29', '168-59', '160-64', '165-53', '133-36', '168-21', '166-52', '169-82', '169-100', '162-73', '133-56', '166-35', '169-84', '160-83', '169-86', '168-48', '133-15', '160-76', '160-72', '133-23', '168-49', '162-26', '168-33', '166-24', '168-20', '160-67', '162-66', '161-92', '160-69', '133-54', '160-58', '136-15', '160-66', '133-28', '162-36', '169-98', '162-17', '133-27', '133-52', '162-19', '160-77', '169-7', '168-13', '134-7', '133-49', '162-54', '159-2', '169-67', '169-46', '133-12', '160-71', '169-68', '168-64', '168-41', '169-42', '160-11', '133-51', '166-31', '162-68', '169-47', '169-102', '162-65', '169-99', '165-57', '162-67', '160-57', '168-60', '169-81', '160-48', '135-123', '160-85', '168-22', '169-50', '168-25', '162-18', '133-20', '162-64', '160-84', '170-39', '133-48', '169-93', '160-63', '166-33', '133-14']\n"
          ]
        }
      ],
      "source": [
        "import geopandas as gpd\n",
        "from shapely.geometry import Point\n",
        "\n",
        "# Load data\n",
        "parcels = gpd.read_file('cambridge_parcels.geojson')\n",
        "\n",
        "# Define Harvard Square location\n",
        "harvard_square = Point(-71.1189, 42.3736)\n",
        "harvard_gdf = gpd.GeoDataFrame(geometry=[harvard_square], crs=parcels.crs)\n",
        "harvard_gdf_proj = harvard_gdf.to_crs(epsg=26986)  # Massachusetts state plane\n",
        "\n",
        "# Filter for commercial parcels\n",
        "commercial_use_codes = ['300', '301', '302', '303', '304', '305', '310',\n",
        "                        '320', '325', '326', '330', '340', '345', '346']\n",
        "commercial_parcels = parcels[parcels['use_code'].astype(str).str.startswith(('3', '4'))]\n",
        "commercial_parcels_proj = commercial_parcels.to_crs(epsg=26986)\n",
        "\n",
        "# Create 500m buffer around Harvard Square in projected coordinates\n",
        "harvard_buffer_proj = harvard_gdf_proj.buffer(500)  # 500 meters\n",
        "result_parcels_proj = commercial_parcels_proj[commercial_parcels_proj.geometry.intersects(harvard_buffer_proj.iloc[0])]\n",
        "\n",
        "# Convert back to original CRS\n",
        "result_parcels = result_parcels_proj.to_crs(parcels.crs)\n",
        "\n",
        "# Display results\n",
        "result_ids = result_parcels['ml'].tolist()\n",
        "print(f\"Found {len(result_parcels)} commercial parcels within 500m of Harvard Square\")\n",
        "print(f\"Parcel IDs: {result_ids}\")"
      ]
    },
    {
      "cell_type": "code",
      "source": [
        "import geopandas as gpd\n",
        "import pandas as pd\n",
        "import numpy as np\n",
        "from shapely.geometry import Point\n",
        "\n",
        "# 1. LOAD DATA\n",
        "parcels = gpd.read_file('cambridge_parcels.geojson')\n",
        "\n",
        "# 2. DATA PREPARATION\n",
        "# Define Harvard Square location\n",
        "harvard_square = Point(-71.1189, 42.3736)\n",
        "\n",
        "# Convert to projected CRS for accurate measurements\n",
        "harvard_gdf = gpd.GeoDataFrame(geometry=[harvard_square], crs=parcels.crs)\n",
        "harvard_gdf_proj = harvard_gdf.to_crs(epsg=26986)  # Massachusetts state plane\n",
        "\n",
        "# Filter for commercial parcels\n",
        "commercial_parcels = parcels[parcels['general_us'] == 'Commercial']\n",
        "if len(commercial_parcels) == 0:\n",
        "    commercial_use_codes = ['300', '301', '302', '303', '304', '305', '310',\n",
        "                           '320', '325', '326', '330', '340', '345', '346']\n",
        "    commercial_parcels = parcels[parcels['use_code'].astype(str).str.startswith(('3', '4'))]\n",
        "\n",
        "commercial_parcels_proj = commercial_parcels.to_crs(epsg=26986)\n",
        "\n",
        "# 3. CONSTRAINT IMPLEMENTATION\n",
        "# Create 500m buffer around Harvard Square in projected coordinates\n",
        "harvard_buffer_proj = harvard_gdf_proj.buffer(500)  # 500 meters\n",
        "\n",
        "# Find commercial parcels within buffer\n",
        "result_parcels_proj = commercial_parcels_proj[commercial_parcels_proj.geometry.intersects(harvard_buffer_proj.iloc[0])]\n",
        "\n",
        "# Convert back to original CRS\n",
        "result_parcels = result_parcels_proj.to_crs(parcels.crs)\n",
        "\n",
        "# 4. RESULT FILTERING AND SORTING\n",
        "# Sort by distance to Harvard Square (optional)\n",
        "# Convert back to original CRS for display\n",
        "\n",
        "# 5. DISPLAY RESULTS\n",
        "print(f\"Found {len(result_parcels)} commercial parcels within 500m of Harvard Square\")\n",
        "print(result_parcels[['ml', 'location', 'use_code']].head(10))\n",
        "\n",
        "result_ids = result_parcels['ml'].tolist()\n",
        "print(f\"\\nParcel IDs: {result_ids}\")\n",
        "print(f\"Total parcels found: {len(result_ids)}\")\n"
      ],
      "metadata": {
        "colab": {
          "base_uri": "https://localhost:8080/"
        },
        "id": "sKo7H4AFvSoX",
        "outputId": "4b6f889f-011e-454b-b3bd-42eb0a234c1b"
      },
      "execution_count": 11,
      "outputs": [
        {
          "output_type": "stream",
          "name": "stdout",
          "text": [
            "Found 85 commercial parcels within 500m of Harvard Square\n",
            "          ml                     location use_code\n",
            "272   166-77                  5 Revere St      340\n",
            "329   168-36                 1 Brattle Sq      346\n",
            "337   160-59                21 Dunster St      345\n",
            "380   160-14  1336-1362 Massachusetts Ave      345\n",
            "405   166-37                  8 Revere St      340\n",
            "492   165-55             14 University Rd      345\n",
            "785   165-34             110 Mt Auburn St      300\n",
            "945   162-29                  10 Eliot Sq      326\n",
            "1213  168-59                48 Brattle St      345\n",
            "1246  160-64             28-36 Brattle St      345\n",
            "\n",
            "Parcel IDs: ['166-77', '168-36', '160-59', '160-14', '166-37', '165-55', '165-34', '162-29', '168-59', '160-64', '165-53', '133-36', '168-21', '166-52', '169-82', '169-100', '162-73', '166-35', '169-84', '160-83', '169-86', '168-48', '133-15', '160-76', '160-72', '133-23', '168-49', '162-26', '168-33', '166-24', '168-20', '160-67', '160-69', '160-58', '136-15', '160-66', '133-28', '162-36', '169-98', '162-17', '133-27', '133-52', '162-19', '160-77', '169-7', '168-13', '134-7', '133-49', '162-54', '159-2', '169-67', '169-46', '133-12', '160-71', '169-68', '168-64', '168-41', '169-42', '160-11', '133-51', '162-68', '169-47', '169-102', '162-65', '169-99', '165-57', '162-67', '160-57', '168-60', '169-81', '160-48', '160-85', '168-22', '169-50', '168-25', '162-18', '133-20', '162-64', '160-84', '170-39', '133-48', '169-93', '160-63', '166-33', '133-14']\n",
            "Total parcels found: 85\n"
          ]
        }
      ]
    },
    {
      "cell_type": "code",
      "source": [
        "import geopandas as gpd\n",
        "from shapely.geometry import Point\n",
        "\n",
        "# Load data\n",
        "parcels = gpd.read_file('cambridge_parcels.geojson')\n",
        "\n",
        "# Define Harvard Square location (fixed coordinates)\n",
        "harvard_square = Point(-71.1189, 42.3736)\n",
        "\n",
        "# Create GeoDataFrame for Harvard Square\n",
        "harvard_gdf = gpd.GeoDataFrame(geometry=[harvard_square], crs=parcels.crs)\n",
        "\n",
        "# Convert to projected CRS for accurate distance measurement\n",
        "harvard_gdf_proj = harvard_gdf.to_crs(epsg=26986)  # Massachusetts state plane\n",
        "parcels_proj = parcels.to_crs(epsg=26986)  # Massachusetts state plane\n",
        "\n",
        "# Define commercial use codes consistently\n",
        "commercial_use_codes = ['300', '301', '302', '303', '304', '305', '310',\n",
        "                       '320', '325', '326', '330', '340', '345', '346']\n",
        "\n",
        "# Filter for commercial parcels using use code (more reliable than general_us)\n",
        "commercial_parcels_proj = parcels_proj[parcels_proj['use_code'].astype(str).str.startswith(('3', '4'))]\n",
        "\n",
        "# Create 500m buffer around Harvard Square in projected coordinates\n",
        "harvard_buffer_proj = harvard_gdf_proj.buffer(500)  # Exactly 500 meters\n",
        "\n",
        "# Find commercial parcels within 500m of Harvard Square\n",
        "result_parcels_proj = commercial_parcels_proj[commercial_parcels_proj.geometry.intersects(harvard_buffer_proj.iloc[0])]\n",
        "\n",
        "# Convert back to original CRS\n",
        "result_parcels = result_parcels_proj.to_crs(parcels.crs)\n",
        "\n",
        "# Sort by ml (parcel ID) for consistency in results\n",
        "result_parcels = result_parcels.sort_values('ml')\n",
        "\n",
        "# Display results\n",
        "result_ids = result_parcels['ml'].tolist()\n",
        "print(f\"Found {len(result_parcels)} commercial parcels within 500m of Harvard Square\")\n",
        "print(f\"Parcel IDs: {result_ids}\")"
      ],
      "metadata": {
        "colab": {
          "base_uri": "https://localhost:8080/"
        },
        "id": "NHYGKeWHwIpT",
        "outputId": "3bb0bfbb-7b13-4fb2-e18a-7134ac470b66"
      },
      "execution_count": 15,
      "outputs": [
        {
          "output_type": "stream",
          "name": "stdout",
          "text": [
            "Found 93 commercial parcels within 500m of Harvard Square\n",
            "Parcel IDs: ['133-12', '133-14', '133-15', '133-20', '133-23', '133-27', '133-28', '133-36', '133-48', '133-49', '133-51', '133-52', '133-54', '133-56', '134-7', '135-123', '136-15', '137-13', '159-2', '160-11', '160-14', '160-48', '160-57', '160-58', '160-59', '160-63', '160-64', '160-66', '160-67', '160-69', '160-71', '160-72', '160-76', '160-77', '160-83', '160-84', '160-85', '161-92', '162-17', '162-18', '162-19', '162-26', '162-29', '162-36', '162-54', '162-64', '162-65', '162-66', '162-67', '162-68', '162-73', '165-34', '165-53', '165-55', '165-57', '165-60', '166-24', '166-31', '166-33', '166-35', '166-37', '166-52', '166-77', '168-13', '168-20', '168-21', '168-22', '168-25', '168-33', '168-36', '168-41', '168-48', '168-49', '168-59', '168-60', '168-64', '169-100', '169-102', '169-42', '169-46', '169-47', '169-50', '169-67', '169-68', '169-7', '169-81', '169-82', '169-84', '169-86', '169-93', '169-98', '169-99', '170-39']\n"
          ]
        }
      ]
    },
    {
      "cell_type": "code",
      "source": [
        "import geopandas as gpd\n",
        "\n",
        "# Load data\n",
        "parcels = gpd.read_file('cambridge_parcels.geojson')\n",
        "\n",
        "# Define retail use codes consistently\n",
        "retail_use_codes = ['320', '321', '322', '323', '324', '325', '326', '330', '331']\n",
        "\n",
        "# Filter for retail parcels\n",
        "retail_parcels = parcels[parcels['use_code'].astype(str).isin(retail_use_codes)]\n",
        "\n",
        "# Filter for large retail parcels (>6000 sq ft)\n",
        "large_retail_parcels = retail_parcels[retail_parcels['land_area'] > 6000]\n",
        "\n",
        "# Sort by parcel ID for consistency\n",
        "large_retail_parcels = large_retail_parcels.sort_values('ml')\n",
        "\n",
        "# Display results\n",
        "result_ids = large_retail_parcels['ml'].tolist()\n",
        "print(f\"Found {len(large_retail_parcels)} retail parcels larger than 4000 sq ft\")\n",
        "print(f\"Parcel IDs: {result_ids}\")"
      ],
      "metadata": {
        "colab": {
          "base_uri": "https://localhost:8080/"
        },
        "id": "DvAL-F7Nyz4n",
        "outputId": "b038776f-945d-4f82-b7fd-bb6327bcdb6f"
      },
      "execution_count": 19,
      "outputs": [
        {
          "output_type": "stream",
          "name": "stdout",
          "text": [
            "Found 80 retail parcels larger than 4000 sq ft\n",
            "Parcel IDs: ['100-62', '105-68', '105-82', '106-124', '107-117', '107-9', '109-50', '110-91', '116-12', '120-48', '125-73', '128-63', '128-72', '134-33', '136-15', '140-148', '152-25', '156-25', '157-26', '16-11', '162-26', '162-54', '169-46', '169-47', '174-37', '175-37', '175-75', '175-84', '176-15', '179-87', '18-64', '18-65', '180-57', '182-88', '183-100', '184-159', '189-72', '191-65', '191-85', '192-121', '192-177', '196-154', '199-30', '199-31', '199-67', '1A-189', '1A-192', '1A-211', '20-75', '200-22', '21-121', '226-46', '229-117', '230-71', '234-178', '236-95', '252-172', '260-46', '260-76', '265B-26', '265B-28', '265B-61', '265C-25', '267E-234', '268B-15', '273-2', '273-20', '34-8', '70-91', '70-92', '74-1', '8-88', '81-100', '83-80', '84-101', '84-91', '90-155', '90-162', '92-88', '93-78']\n"
          ]
        }
      ]
    },
    {
      "cell_type": "code",
      "source": [
        "import geopandas as gpd\n",
        "\n",
        "# Load data\n",
        "parcels = gpd.read_file('cambridge_parcels.geojson')\n",
        "poi = gpd.read_file('cambridge_poi_processed.geojson')\n",
        "\n",
        "# Convert to projected CRS for accurate distance measurement\n",
        "parcels_proj = parcels.to_crs(epsg=26986)  # Massachusetts state plane\n",
        "\n",
        "# Filter restaurants from POI data\n",
        "restaurants = poi[poi['business_type'] == 'restaurant']\n",
        "restaurants_proj = restaurants.to_crs(epsg=26986)  # Massachusetts state plane\n",
        "\n",
        "# Count nearby restaurants for each parcel\n",
        "def count_nearby_restaurants(parcel_geom, restaurant_geoms, buffer_distance=300):\n",
        "    buffered_geom = parcel_geom.buffer(buffer_distance)\n",
        "    count = sum(1 for rest_geom in restaurant_geoms if buffered_geom.contains(rest_geom))\n",
        "    return count\n",
        "\n",
        "# Calculate restaurant count for each parcel\n",
        "restaurant_geoms = restaurants_proj['geometry'].tolist()\n",
        "parcels_proj['nearby_restaurants'] = parcels_proj['geometry'].apply(\n",
        "    lambda geom: count_nearby_restaurants(geom, restaurant_geoms)\n",
        ")\n",
        "\n",
        "# Filter for parcels with 0, 1, or 2 restaurants within 300m\n",
        "result_parcels = parcels_proj[parcels_proj['nearby_restaurants'] <= 2]\n",
        "\n",
        "# Convert back to original CRS\n",
        "result_parcels = result_parcels.to_crs(parcels.crs)\n",
        "\n",
        "# Sort by parcel ID for consistency\n",
        "result_parcels = result_parcels.sort_values('ml')\n",
        "\n",
        "# Display results\n",
        "result_ids = result_parcels['ml'].tolist()\n",
        "print(f\"Found {len(result_parcels)} parcels with ≤2 restaurants within 300m\")\n",
        "print(f\"Parcel IDs: {result_ids[:30]}\")  # Show first 30 due to potentially large result set"
      ],
      "metadata": {
        "colab": {
          "base_uri": "https://localhost:8080/"
        },
        "id": "kYSHvGzvzTtx",
        "outputId": "f1db3e73-ef3e-4dab-914c-a2f7901f5982"
      },
      "execution_count": 20,
      "outputs": [
        {
          "output_type": "stream",
          "name": "stdout",
          "text": [
            "Found 2517 parcels with ≤2 restaurants within 300m\n",
            "Parcel IDs: ['103-95', '108-49', '108-50', '108-60', '108-61', '108-62', '112-102', '112-104', '112-106', '112-110', '112-111', '112-112', '112-113', '112-114', '112-124', '112-125', '112-139', '112-140', '112-141', '112-142', '112-143', '112-23', '112-46', '112-66', '113-1', '113-13', '113-14', '113-15', '113-17', '113-18']\n"
          ]
        }
      ]
    },
    {
      "cell_type": "code",
      "source": [
        "import geopandas as gpd\n",
        "\n",
        "# Load data\n",
        "parcels = gpd.read_file('cambridge_parcels.geojson')\n",
        "poi = gpd.read_file('cambridge_poi_processed.geojson')\n",
        "\n",
        "# Convert to projected CRS for accurate distance measurement\n",
        "parcels_proj = parcels.to_crs(epsg=26986)  # Massachusetts state plane\n",
        "\n",
        "# Filter restaurants from POI data\n",
        "restaurants = poi[poi['business_type'] == 'restaurant']\n",
        "restaurants_proj = restaurants.to_crs(epsg=26986)  # Massachusetts state plane\n",
        "\n",
        "# Count nearby restaurants for each parcel\n",
        "def count_nearby_restaurants(parcel_geom, restaurant_geoms, buffer_distance=800):\n",
        "    buffered_geom = parcel_geom.buffer(buffer_distance)\n",
        "    count = sum(1 for rest_geom in restaurant_geoms if buffered_geom.contains(rest_geom))\n",
        "    return count\n",
        "\n",
        "# Calculate restaurant count for each parcel\n",
        "restaurant_geoms = restaurants_proj['geometry'].tolist()\n",
        "parcels_proj['nearby_restaurants'] = parcels_proj['geometry'].apply(\n",
        "    lambda geom: count_nearby_restaurants(geom, restaurant_geoms)\n",
        ")\n",
        "\n",
        "# Filter for parcels with 0, 1, or 2 restaurants within 800m\n",
        "result_parcels = parcels_proj[parcels_proj['nearby_restaurants'] <= 2]\n",
        "\n",
        "# Convert back to original CRS\n",
        "result_parcels = result_parcels.to_crs(parcels.crs)\n",
        "\n",
        "# Sort by parcel ID for consistency\n",
        "result_parcels = result_parcels.sort_values('ml')\n",
        "\n",
        "# Display results\n",
        "result_ids = result_parcels['ml'].tolist()\n",
        "print(f\"Found {len(result_parcels)} parcels with ≤2 restaurants within 800m\")\n",
        "print(f\"Parcel IDs: {result_ids}\")"
      ],
      "metadata": {
        "colab": {
          "base_uri": "https://localhost:8080/"
        },
        "id": "f5m6kBx20gG4",
        "outputId": "2f00d483-b2d2-46a5-e542-d20c93ee2b22"
      },
      "execution_count": 24,
      "outputs": [
        {
          "output_type": "stream",
          "name": "stdout",
          "text": [
            "Found 57 parcels with ≤2 restaurants within 500m\n",
            "Parcel IDs: ['242-33', '242-34', '242-36', '242-38', '242A-100', '242A-102', '242A-105', '242A-107', '242A-109', '242A-110', '242A-111', '242A-112', '242A-113', '242A-115', '242A-116', '242A-126', '242A-127', '242A-131', '242A-148', '242A-158', '242A-159', '242A-160', '242A-161', '242A-162', '242A-59', '242A-68', '242A-72', '242A-73', '242A-75', '242A-91', '242A-99', '242B-999', '243-1', '266-1', '266-10', '266-12', '266-13', '266-14', '266-15', '266-16', '266-17', '266-18', '266-19', '266-2', '266-20', '266-21', '266-3', '266-35', '266-36', '266-37', '266-38', '266-4', '266-5', '266-6', '266-7', '266-8', '266-9']\n"
          ]
        }
      ]
    },
    {
      "cell_type": "code",
      "source": [
        "import geopandas as gpd\n",
        "\n",
        "# Load data\n",
        "parcels = gpd.read_file('cambridge_parcels.geojson')\n",
        "census = gpd.read_file('cambridge_census_cambridge_pct.geojson')\n",
        "\n",
        "# Define commercial use codes consistently\n",
        "commercial_use_codes = ['300', '301', '302', '303', '304', '305', '310',\n",
        "                        '320', '325', '326', '330', '340', '345', '346']\n",
        "\n",
        "# Filter for commercial parcels\n",
        "commercial_parcels = parcels[parcels['use_code'].astype(str).str.startswith(('3', '4'))]\n",
        "\n",
        "# Ensure both datasets have same CRS\n",
        "commercial_parcels = commercial_parcels.to_crs(census.crs)\n",
        "\n",
        "# Spatial join: assign each parcel to the tract it falls within\n",
        "parcels_with_census = gpd.sjoin(\n",
        "    commercial_parcels,\n",
        "    census,\n",
        "    how='left',\n",
        "    predicate='within'\n",
        ")\n",
        "\n",
        "# Drop parcels that didn't match any census tract\n",
        "parcels_with_census = parcels_with_census.dropna(subset=['pct_adv_deg'])\n",
        "\n",
        "# Sort by advanced degree percentage (higher is better)\n",
        "parcels_by_education = parcels_with_census.sort_values('pct_adv_deg', ascending=False)\n",
        "\n",
        "# Get top 20 parcels in areas with highest educational attainment\n",
        "top_parcels = parcels_by_education.head(20)\n",
        "\n",
        "# Display results\n",
        "result_ids = top_parcels['ml'].tolist()\n",
        "print(f\"Top 20 commercial parcels in areas with highest percentage of advanced degrees:\")\n",
        "print(f\"Parcel IDs: {result_ids}\")"
      ],
      "metadata": {
        "colab": {
          "base_uri": "https://localhost:8080/"
        },
        "id": "kGMUdeBy42d1",
        "outputId": "d273b08d-b70f-4eb3-9d7b-d26452de33be"
      },
      "execution_count": 26,
      "outputs": [
        {
          "output_type": "stream",
          "name": "stdout",
          "text": [
            "Top 20 commercial parcels in areas with highest percentage of advanced degrees:\n",
            "Parcel IDs: ['160-14', '160-59', '133-20', '160-84', '160-85', '133-51', '160-48', '160-11', '133-54', '133-52', '160-77', '160-76', '133-15', '160-67', '160-69', '160-58', '133-14', '160-83', '133-56', '125-73']\n"
          ]
        }
      ]
    },
    {
      "cell_type": "code",
      "source": [
        "import geopandas as gpd\n",
        "from shapely.geometry import Point\n",
        "\n",
        "# Load data\n",
        "parcels = gpd.read_file('cambridge_parcels.geojson')\n",
        "\n",
        "# Define subway station locations (approximated for Cambridge)\n",
        "subway_stations = [\n",
        "    Point(-71.1189, 42.3736),  # Harvard Square\n",
        "    Point(-71.1031, 42.3656),  # Central Square\n",
        "    Point(-71.0865, 42.3625),  # Kendall/MIT\n",
        "    Point(-71.1226, 42.3782),  # Porter Square\n",
        "    Point(-71.1429, 42.3954)   # Alewife\n",
        "]\n",
        "subway_gdf = gpd.GeoDataFrame(geometry=subway_stations, crs=parcels.crs)\n",
        "\n",
        "# Convert to projected CRS for accurate distance measurement\n",
        "parcels_proj = parcels.to_crs(epsg=26986)\n",
        "subway_gdf_proj = subway_gdf.to_crs(epsg=26986)\n",
        "\n",
        "# Define commercial use codes consistently\n",
        "commercial_use_codes = ['300', '301', '302', '303', '304', '305', '310',\n",
        "                       '320', '325', '326', '330', '340', '345', '346']\n",
        "\n",
        "# Filter for commercial parcels\n",
        "commercial_parcels = parcels_proj[parcels_proj['use_code'].astype(str).str.startswith(('3', '4'))]\n",
        "\n",
        "# Filter for vacant commercial parcels (using vacant land use codes)\n",
        "vacant_codes = ['130', '131', '132', '390', '391', '392', '393']\n",
        "vacant_commercial = commercial_parcels[commercial_parcels['use_code'].astype(str).isin(vacant_codes)]\n",
        "\n",
        "# If no explicit vacant codes found, use undeveloped parcels\n",
        "if len(vacant_commercial) == 0:\n",
        "    # Look for commercial parcels with no buildings\n",
        "    if 'building_count' in commercial_parcels.columns:\n",
        "        vacant_commercial = commercial_parcels[commercial_parcels['building_count'] == 0]\n",
        "    else:\n",
        "        # If no building count, use all commercial parcels as fallback\n",
        "        vacant_commercial = commercial_parcels\n",
        "        print(\"Warning: No explicit vacant parcel data found. Using all commercial parcels.\")\n",
        "\n",
        "# Filter for parcels larger than 3000 sq ft\n",
        "large_vacant_commercial = vacant_commercial[vacant_commercial['land_area'] > 3000]\n",
        "\n",
        "# Create 800m buffer around subway stations\n",
        "buffers = subway_gdf_proj.geometry.buffer(800)\n",
        "union_buffer = buffers.union_all()\n",
        "\n",
        "# Find large vacant commercial parcels within 800m of subway stations\n",
        "result_parcels = large_vacant_commercial[large_vacant_commercial.geometry.intersects(union_buffer)]\n",
        "\n",
        "# Convert back to original CRS\n",
        "result_parcels = result_parcels.to_crs(parcels.crs)\n",
        "\n",
        "# Sort by parcel ID for consistency\n",
        "result_parcels = result_parcels.sort_values('ml')\n",
        "\n",
        "# Display results\n",
        "result_ids = result_parcels['ml'].tolist()\n",
        "print(f\"Found {len(result_parcels)} vacant commercial parcels > 3000 sq ft within 800m of subway stations\")\n",
        "print(f\"Parcel IDs: {result_ids}\")"
      ],
      "metadata": {
        "colab": {
          "base_uri": "https://localhost:8080/"
        },
        "id": "eb-59Ka55jQt",
        "outputId": "a0cee4e1-3c77-4054-defc-3287c7ab3d40"
      },
      "execution_count": 28,
      "outputs": [
        {
          "output_type": "stream",
          "name": "stdout",
          "text": [
            "Found 13 vacant commercial parcels > 3000 sq ft within 800m of subway stations\n",
            "Parcel IDs: ['11-46', '119-21', '173-35', '189-103', '267.1-282', '267E-17', '267E-290', '267E-291', '267E-292', '267F-393', '41-28', '70-10', '95-1']\n"
          ]
        }
      ]
    },
    {
      "cell_type": "code",
      "source": [
        "import geopandas as gpd\n",
        "\n",
        "# Load data\n",
        "parcels = gpd.read_file('cambridge_parcels.geojson')\n",
        "poi = gpd.read_file('cambridge_poi_processed.geojson')\n",
        "\n",
        "# Define retail use codes consistently\n",
        "retail_use_codes = ['320', '321', '322', '323', '324', '325', '326', '330', '331']\n",
        "\n",
        "# Filter for retail parcels\n",
        "retail_parcels = parcels[parcels['use_code'].astype(str).isin(retail_use_codes)]\n",
        "\n",
        "# Convert to projected CRS for accurate distance measurement\n",
        "retail_parcels_proj = retail_parcels.to_crs(epsg=26986)\n",
        "\n",
        "# Filter retail businesses from POI data\n",
        "retail_business_types = ['restaurant', 'clothing_store', 'department_store', 'grocery_store',\n",
        "                         'convenience_store', 'furniture_store', 'hardware_store', 'electronics_store']\n",
        "retail_businesses = poi[poi['business_type'].isin(retail_business_types)]\n",
        "retail_businesses_proj = retail_businesses.to_crs(epsg=26986)\n",
        "\n",
        "# Count nearby retail businesses for each parcel\n",
        "def count_nearby_retail(parcel_geom, retail_geoms, buffer_distance=300):\n",
        "    buffered_geom = parcel_geom.buffer(buffer_distance)\n",
        "    count = sum(1 for geom in retail_geoms if buffered_geom.contains(geom))\n",
        "    return count\n",
        "\n",
        "# Calculate retail count for each retail parcel\n",
        "retail_geoms = retail_businesses_proj['geometry'].tolist()\n",
        "retail_parcels_proj['nearby_retail'] = retail_parcels_proj['geometry'].apply(\n",
        "    lambda geom: count_nearby_retail(geom, retail_geoms)\n",
        ")\n",
        "\n",
        "# Filter for parcels with fewer than 2 competing retail businesses\n",
        "result_parcels = retail_parcels_proj[retail_parcels_proj['nearby_retail'] < 2]\n",
        "\n",
        "# Convert back to original CRS\n",
        "result_parcels = result_parcels.to_crs(parcels.crs)\n",
        "\n",
        "# Sort by parcel ID for consistency\n",
        "result_parcels = result_parcels.sort_values('ml')\n",
        "\n",
        "# Display results\n",
        "result_ids = result_parcels['ml'].tolist()\n",
        "print(f\"Found {len(result_parcels)} retail parcels with <2 competing retail businesses within 300m\")\n",
        "print(f\"Parcel IDs: {result_ids}\")"
      ],
      "metadata": {
        "colab": {
          "base_uri": "https://localhost:8080/"
        },
        "id": "ML60SS356yvl",
        "outputId": "a8ee310a-c63a-4a52-d6b0-1b4d46b4ef6c"
      },
      "execution_count": 30,
      "outputs": [
        {
          "output_type": "stream",
          "name": "stdout",
          "text": [
            "Found 6 retail parcels with <2 competing retail businesses within 300m\n",
            "Parcel IDs: ['189-4', '195-59', '228-55', '234-178', '267D-259', '268B-15']\n"
          ]
        }
      ]
    },
    {
      "cell_type": "code",
      "source": [
        "import geopandas as gpd\n",
        "import pandas as pd\n",
        "from shapely.geometry import LineString\n",
        "\n",
        "# Load data\n",
        "parcels = gpd.read_file('cambridge_parcels.geojson')\n",
        "poi = gpd.read_file('cambridge_poi_processed.geojson')\n",
        "spend_data = pd.read_csv('cambridge_spend_processed.csv')\n",
        "\n",
        "# Define approximate Massachusetts Avenue location\n",
        "# Using points from POI data that are known to be on Mass Ave\n",
        "mass_ave_points = [\n",
        "    (-71.107894, 42.367672),  # Near Tanjore restaurant on Mass Ave\n",
        "    (-71.10564, 42.367132),   # Near Fire Department on Mass Ave\n",
        "    (-71.10144, 42.363676)    # Near The Boston Lamb Takedown on Mass Ave\n",
        "]\n",
        "mass_ave = LineString(mass_ave_points)\n",
        "\n",
        "# Create GeoDataFrame for Mass Ave\n",
        "mass_ave_gdf = gpd.GeoDataFrame(geometry=[mass_ave], crs=parcels.crs)\n",
        "\n",
        "# Convert to projected CRS for accurate distance measurement\n",
        "parcels_proj = parcels.to_crs(epsg=26986)\n",
        "mass_ave_proj = mass_ave_gdf.to_crs(epsg=26986)\n",
        "\n",
        "# Define commercial use codes consistently\n",
        "commercial_use_codes = ['300', '301', '302', '303', '304', '305', '310',\n",
        "                        '320', '325', '326', '330', '340', '345', '346']\n",
        "\n",
        "# Filter for commercial parcels\n",
        "commercial_parcels = parcels_proj[parcels_proj['use_code'].astype(str).str.startswith(('3', '4'))]\n",
        "\n",
        "# Create 1km buffer around Mass Ave\n",
        "mass_ave_buffer = mass_ave_proj.buffer(1000)\n",
        "\n",
        "# Find commercial parcels within 1km of Mass Ave\n",
        "parcels_near_mass_ave = commercial_parcels[commercial_parcels.geometry.intersects(mass_ave_buffer.iloc[0])]\n",
        "\n",
        "# Combine POI with spending data\n",
        "poi_with_spend = poi.merge(\n",
        "    spend_data,\n",
        "    left_on='PLACEKEY',\n",
        "    right_on='PLACEKEY',\n",
        "    how='left'\n",
        ")\n",
        "\n",
        "# Fill NaN values in spending with 0\n",
        "if 'RAW_TOTAL_SPEND' in poi_with_spend.columns:\n",
        "    poi_with_spend['RAW_TOTAL_SPEND'] = poi_with_spend['RAW_TOTAL_SPEND'].fillna(0)\n",
        "else:\n",
        "    poi_with_spend['RAW_TOTAL_SPEND'] = 0\n",
        "    print(\"Warning: No spend data found. Setting all spend to 0.\")\n",
        "\n",
        "# Convert POI to projected CRS\n",
        "poi_with_spend_proj = poi_with_spend.to_crs(epsg=26986)\n",
        "\n",
        "# Calculate area spending for each parcel\n",
        "def calculate_area_spending(parcel_geom, poi_geoms, spend_values, radius=200):  # 200m radius\n",
        "    buffered_geom = parcel_geom.buffer(radius)\n",
        "    total_spend = 0\n",
        "\n",
        "    for i, poi_geom in enumerate(poi_geoms):\n",
        "        if poi_geom is not None and buffered_geom.contains(poi_geom):\n",
        "            total_spend += spend_values[i]\n",
        "\n",
        "    return total_spend\n",
        "\n",
        "# Calculate spending around each parcel\n",
        "poi_geoms = poi_with_spend_proj['geometry'].tolist()\n",
        "spend_values = poi_with_spend_proj['RAW_TOTAL_SPEND'].tolist()\n",
        "\n",
        "# Calculate area spending for each parcel near Mass Ave\n",
        "area_spending = []\n",
        "for idx, row in parcels_near_mass_ave.iterrows():\n",
        "    spend = calculate_area_spending(row['geometry'], poi_geoms, spend_values)\n",
        "    area_spending.append(spend)\n",
        "\n",
        "parcels_near_mass_ave['area_spending'] = area_spending\n",
        "\n",
        "# Sort by area spending (higher is better)\n",
        "result_parcels = parcels_near_mass_ave.sort_values('area_spending', ascending=False)\n",
        "\n",
        "# Convert back to original CRS\n",
        "result_parcels = result_parcels.to_crs(parcels.crs)\n",
        "\n",
        "# Display results\n",
        "result_ids = result_parcels['ml'].tolist()\n",
        "print(f\"Found {len(result_parcels)} commercial parcels within 1km of Mass Ave\")\n",
        "print(f\"Parcel IDs (sorted by consumer spending): {result_ids[:30]}\")"
      ],
      "metadata": {
        "colab": {
          "base_uri": "https://localhost:8080/"
        },
        "id": "hqSogpfN60Ce",
        "outputId": "c73a1962-0022-401d-fcda-8f72d4df793f"
      },
      "execution_count": 34,
      "outputs": [
        {
          "output_type": "stream",
          "name": "stdout",
          "text": [
            "Found 328 commercial parcels within 1km of Mass Ave\n",
            "Parcel IDs (sorted by consumer spending): ['128-71', '90-184', '106-124', '90-125', '90-133', '90-185', '90-155', '91-118', '91-200', '93-74', '93-76', '93-75', '93-73', '93-72', '93-78', '93-80', '93-79', '93-99', '90-193', '91-208', '106-123', '90-70', '90-169', '106-109', '90-52', '90-55', '106-117', '92-88', '90-170', '90-161']\n"
          ]
        },
        {
          "output_type": "stream",
          "name": "stderr",
          "text": [
            "/usr/local/lib/python3.11/dist-packages/geopandas/geodataframe.py:1819: SettingWithCopyWarning: \n",
            "A value is trying to be set on a copy of a slice from a DataFrame.\n",
            "Try using .loc[row_indexer,col_indexer] = value instead\n",
            "\n",
            "See the caveats in the documentation: https://pandas.pydata.org/pandas-docs/stable/user_guide/indexing.html#returning-a-view-versus-a-copy\n",
            "  super().__setitem__(key, value)\n"
          ]
        }
      ]
    }
  ]
}